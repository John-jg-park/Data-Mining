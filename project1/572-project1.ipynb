{
 "cells": [
  {
   "cell_type": "code",
   "execution_count": 1,
   "id": "02f6df75",
   "metadata": {},
   "outputs": [
    {
     "name": "stdout",
     "output_type": "stream",
     "text": [
      "--sys.version—\n",
      "3.7.11 (default, Jul 27 2021, 09:42:29) [MSC v.1916 64 bit (AMD64)]\n"
     ]
    }
   ],
   "source": [
    "\n",
    "import sys\n",
    "print(\"--sys.version—\")\n",
    "print(sys.version)\n"
   ]
  },
  {
   "cell_type": "code",
   "execution_count": 2,
   "id": "65932342",
   "metadata": {},
   "outputs": [
    {
     "ename": "ModuleNotFoundError",
     "evalue": "No module named 'matplotlib'",
     "output_type": "error",
     "traceback": [
      "\u001b[1;31m---------------------------------------------------------------------------\u001b[0m",
      "\u001b[1;31mModuleNotFoundError\u001b[0m                       Traceback (most recent call last)",
      "\u001b[1;32m<ipython-input-2-69bc7cf0b357>\u001b[0m in \u001b[0;36m<module>\u001b[1;34m\u001b[0m\n\u001b[0;32m      1\u001b[0m \u001b[1;32mimport\u001b[0m \u001b[0mscipy\u001b[0m \u001b[1;32mas\u001b[0m \u001b[0msp\u001b[0m\u001b[1;33m\u001b[0m\u001b[1;33m\u001b[0m\u001b[0m\n\u001b[0;32m      2\u001b[0m \u001b[1;32mimport\u001b[0m \u001b[0mnumpy\u001b[0m \u001b[1;32mas\u001b[0m \u001b[0mnp\u001b[0m\u001b[1;33m\u001b[0m\u001b[1;33m\u001b[0m\u001b[0m\n\u001b[1;32m----> 3\u001b[1;33m \u001b[1;32mimport\u001b[0m \u001b[0mmatplotlib\u001b[0m \u001b[1;32mas\u001b[0m \u001b[0mmpl\u001b[0m\u001b[1;33m\u001b[0m\u001b[1;33m\u001b[0m\u001b[0m\n\u001b[0m\u001b[0;32m      4\u001b[0m \u001b[1;32mimport\u001b[0m \u001b[0mpandas\u001b[0m \u001b[1;32mas\u001b[0m \u001b[0mpd\u001b[0m\u001b[1;33m\u001b[0m\u001b[1;33m\u001b[0m\u001b[0m\n\u001b[0;32m      5\u001b[0m \u001b[1;32mimport\u001b[0m \u001b[0msklearn\u001b[0m \u001b[1;32mas\u001b[0m \u001b[0msk\u001b[0m\u001b[1;33m\u001b[0m\u001b[1;33m\u001b[0m\u001b[0m\n",
      "\u001b[1;31mModuleNotFoundError\u001b[0m: No module named 'matplotlib'"
     ]
    }
   ],
   "source": [
    "import scipy as sp\n",
    "import numpy as np\n",
    "import matplotlib as mpl\n",
    "import pandas as pd\n",
    "import sklearn as sk\n",
    "import h5py\n",
    "import tensorflow as tf\n",
    "import keras as k\n",
    "print('scipy ' + sp.__version__)\n",
    "print('numpy ' + np.__version__)\n",
    "print('matplotlib ' + mpl.__version__)\n",
    "print('pandas ' + pd.__version__)\n",
    "print('sklearn ' + sk.__version__)\n",
    "print('h5py ' + h5py.__version__)\n",
    "print('tensorflow ' + tf.__version__)\n",
    "print('keras ' + k.__version__)"
   ]
  },
  {
   "cell_type": "code",
   "execution_count": 3,
   "id": "f2257000",
   "metadata": {},
   "outputs": [],
   "source": [
    "import pandas as pd\n",
    "import sklearn as sk"
   ]
  },
  {
   "cell_type": "code",
   "execution_count": 4,
   "id": "792118f2",
   "metadata": {
    "scrolled": true
   },
   "outputs": [
    {
     "name": "stdout",
     "output_type": "stream",
     "text": [
      "pandas 0.25.1\n",
      "sklearn 0.21.2\n"
     ]
    }
   ],
   "source": [
    "print('pandas ' + pd.__version__)\n",
    "print('sklearn ' + sk.__version__)"
   ]
  },
  {
   "cell_type": "code",
   "execution_count": 428,
   "id": "5252085b",
   "metadata": {},
   "outputs": [],
   "source": [
    "cgm_raw = pd.read_csv(r'CGMData.csv', index_col = 0)\n",
    "#cgm_raw.head()\n",
    "#print(cgm_raw.dtypes)\n",
    "#cgm_df.info()"
   ]
  },
  {
   "cell_type": "code",
   "execution_count": 429,
   "id": "297375e2",
   "metadata": {},
   "outputs": [],
   "source": [
    "cgm_raw['datetime'] = pd.to_datetime(cgm_raw['Date']) + pd.to_timedelta(cgm_raw['Time'])\n",
    "#cgm_raw.head(3)\n",
    "#print(cgm_df.dtypes)"
   ]
  },
  {
   "cell_type": "code",
   "execution_count": 430,
   "id": "0054bcf3",
   "metadata": {},
   "outputs": [],
   "source": [
    "cgm_df = cgm_raw[['datetime','Sensor Glucose (mg/dL)']]\n",
    "#cgm_df.head()"
   ]
  },
  {
   "cell_type": "code",
   "execution_count": 431,
   "id": "e43c3856",
   "metadata": {},
   "outputs": [
    {
     "name": "stdout",
     "output_type": "stream",
     "text": [
      "datetime                  datetime64[ns]\n",
      "Sensor Glucose (mg/dL)           float64\n",
      "dtype: object\n"
     ]
    }
   ],
   "source": [
    "print(cgm_df.dtypes)"
   ]
  },
  {
   "cell_type": "code",
   "execution_count": 434,
   "id": "b922bb56",
   "metadata": {},
   "outputs": [],
   "source": [
    "insulin_raw = pd.read_csv(r'InsulinData.csv')\n",
    "insulin_raw['datetime'] = pd.to_datetime(insulin_raw['Date']) + pd.to_timedelta(insulin_raw['Time'])"
   ]
  },
  {
   "cell_type": "code",
   "execution_count": 435,
   "id": "2e88a308",
   "metadata": {},
   "outputs": [],
   "source": [
    "insulin_df = insulin_raw[['datetime', 'Alarm']]\n",
    "#insulin_df.head()"
   ]
  },
  {
   "cell_type": "code",
   "execution_count": 436,
   "id": "755a6372",
   "metadata": {},
   "outputs": [
    {
     "name": "stdout",
     "output_type": "stream",
     "text": [
      "datetime    datetime64[ns]\n",
      "Alarm               object\n",
      "dtype: object\n"
     ]
    }
   ],
   "source": [
    "print(insulin_df.dtypes)"
   ]
  },
  {
   "cell_type": "code",
   "execution_count": 437,
   "id": "e2b45999",
   "metadata": {
    "scrolled": true
   },
   "outputs": [],
   "source": [
    "#df=pd.merge(cgm_df, insulin_df, on='DateTime', how='outer')"
   ]
  },
  {
   "cell_type": "code",
   "execution_count": 438,
   "id": "d55373a8",
   "metadata": {},
   "outputs": [],
   "source": [
    "cgm_df = cgm_df.sort_values(by='datetime')\n",
    "insulin_df = insulin_df.sort_values(by='datetime')"
   ]
  },
  {
   "cell_type": "code",
   "execution_count": 439,
   "id": "17a1dc23",
   "metadata": {},
   "outputs": [],
   "source": [
    "#cgm_df.head()\n",
    "#insulin_df.head()"
   ]
  },
  {
   "cell_type": "code",
   "execution_count": 440,
   "id": "c5b51a41",
   "metadata": {},
   "outputs": [
    {
     "data": {
      "text/plain": [
       "51175"
      ]
     },
     "execution_count": 440,
     "metadata": {},
     "output_type": "execute_result"
    }
   ],
   "source": [
    "total_rows = cgm_df['Sensor Glucose (mg/dL)'].count()\n",
    "total_rows"
   ]
  },
  {
   "cell_type": "code",
   "execution_count": 441,
   "id": "dc4387c6",
   "metadata": {},
   "outputs": [],
   "source": [
    "#cgm_df['Sensor Glucose (mg/dL)'].groupby([cgm_df.DateTime.dt.month, cgm_df.DateTime.dt.day, cgm_df.DateTime.dt.hour]).count().plot(kind=\"line\")"
   ]
  },
  {
   "cell_type": "code",
   "execution_count": 442,
   "id": "cd7d0329",
   "metadata": {},
   "outputs": [
    {
     "data": {
      "text/plain": [
       "datetime                  datetime64[ns]\n",
       "Sensor Glucose (mg/dL)           float64\n",
       "dtype: object"
      ]
     },
     "execution_count": 442,
     "metadata": {},
     "output_type": "execute_result"
    }
   ],
   "source": [
    "cgm_df.dtypes"
   ]
  },
  {
   "cell_type": "code",
   "execution_count": 443,
   "id": "d70009a8",
   "metadata": {},
   "outputs": [
    {
     "data": {
      "text/plain": [
       "Index\n",
       "52859    12:08:54\n",
       "52858    12:13:54\n",
       "52857    12:18:54\n",
       "52856    12:23:54\n",
       "52855    12:28:54\n",
       "           ...   \n",
       "20359    13:02:27\n",
       "20358    13:07:27\n",
       "20357    13:12:27\n",
       "20356    13:17:27\n",
       "20355    13:22:27\n",
       "Name: datetime, Length: 55343, dtype: object"
      ]
     },
     "execution_count": 443,
     "metadata": {},
     "output_type": "execute_result"
    }
   ],
   "source": [
    "cgm_df['datetime'].dt.time"
   ]
  },
  {
   "cell_type": "code",
   "execution_count": 444,
   "id": "529de4c6",
   "metadata": {
    "scrolled": true
   },
   "outputs": [
    {
     "data": {
      "text/plain": [
       "195"
      ]
     },
     "execution_count": 444,
     "metadata": {},
     "output_type": "execute_result"
    }
   ],
   "source": [
    "date_df=cgm_df[['Sensor Glucose (mg/dL)']].groupby(cgm_df['datetime'].dt.date).count().reset_index()\n",
    "date_df\n",
    "len(date_df)"
   ]
  },
  {
   "cell_type": "code",
   "execution_count": 445,
   "id": "04de560b",
   "metadata": {},
   "outputs": [
    {
     "data": {
      "text/plain": [
       "datetime                  object\n",
       "Sensor Glucose (mg/dL)     int64\n",
       "dtype: object"
      ]
     },
     "execution_count": 445,
     "metadata": {},
     "output_type": "execute_result"
    }
   ],
   "source": [
    "#date_df['datetime'] = pd.to_datetime(date_df['datetime'])\n",
    "date_df.dtypes"
   ]
  },
  {
   "cell_type": "code",
   "execution_count": 448,
   "id": "38c8270b",
   "metadata": {},
   "outputs": [
    {
     "data": {
      "text/plain": [
       "165"
      ]
     },
     "execution_count": 448,
     "metadata": {},
     "output_type": "execute_result"
    }
   ],
   "source": [
    "#cond = (date_df['Sensor Glucose (mg/dL)'] == 142)\n",
    "cond1 = (date_df['Sensor Glucose (mg/dL)'] > 288*0.8)\n",
    "date_df= date_df.loc[cond1]\n",
    "date_df\n",
    "len_of_date = len(date_df)\n",
    "len_of_date"
   ]
  },
  {
   "cell_type": "code",
   "execution_count": 508,
   "id": "b23ada00",
   "metadata": {},
   "outputs": [],
   "source": [
    "#date_df.dtypes\n",
    "#date_df.info()\n",
    "#cgm_df.info()"
   ]
  },
  {
   "cell_type": "code",
   "execution_count": 450,
   "id": "8ac6116d",
   "metadata": {},
   "outputs": [],
   "source": [
    "date_df.loc['datetime'] = date_df['datetime'].astype(str)"
   ]
  },
  {
   "cell_type": "code",
   "execution_count": 481,
   "id": "9e49770a",
   "metadata": {},
   "outputs": [
    {
     "name": "stdout",
     "output_type": "stream",
     "text": [
      "<class 'pandas.core.series.Series'>\n"
     ]
    }
   ],
   "source": [
    "def date_func(x):\n",
    "    return x[0:10]\n",
    "print(type(date_df['datetime']))"
   ]
  },
  {
   "cell_type": "code",
   "execution_count": 544,
   "id": "554389b2",
   "metadata": {},
   "outputs": [],
   "source": [
    "cgm_df['datetime'] = cgm_df['datetime'].astype(str)\n",
    "date_df['datetime'] = date_df['datetime'].astype(str)\n",
    "date_list=date_df['datetime'].tolist()\n",
    "#date_list\n"
   ]
  },
  {
   "cell_type": "code",
   "execution_count": 555,
   "id": "7d901e44",
   "metadata": {},
   "outputs": [
    {
     "name": "stderr",
     "output_type": "stream",
     "text": [
      "C:\\Users\\JOHN\\anaconda3\\envs\\coursera\\lib\\site-packages\\ipykernel_launcher.py:2: SettingWithCopyWarning: \n",
      "A value is trying to be set on a copy of a slice from a DataFrame.\n",
      "Try using .loc[row_indexer,col_indexer] = value instead\n",
      "\n",
      "See the caveats in the documentation: http://pandas.pydata.org/pandas-docs/stable/user_guide/indexing.html#returning-a-view-versus-a-copy\n",
      "  \n"
     ]
    },
    {
     "data": {
      "text/plain": [
       "['2017-08-09 08:07:13', '2017-11-04 17:36:46']"
      ]
     },
     "execution_count": 555,
     "metadata": {},
     "output_type": "execute_result"
    }
   ],
   "source": [
    "mode_df = insulin_df[insulin_df['Alarm'] == 'AUTO MODE ACTIVE PLGM OFF']\n",
    "mode_df['datetime'] = mode_df['datetime'].astype(str)\n",
    "mode_list = mode_df['datetime'].tolist()\n",
    "mode_list"
   ]
  },
  {
   "cell_type": "code",
   "execution_count": 575,
   "id": "981eb9d6",
   "metadata": {},
   "outputs": [
    {
     "data": {
      "text/plain": [
       "'2017-08-09 08:12:13'"
      ]
     },
     "execution_count": 575,
     "metadata": {},
     "output_type": "execute_result"
    }
   ],
   "source": [
    "#datetime_object = datetime.strptime('Jun 1 2005  1:33PM', '%b %d %Y %I:%M%p)\n",
    "#datetime_object = datetime.strptime('2017-08-09 08:07:13', '%Y-%b-%d  )\n",
    "from datetime import datetime\n",
    "from datetime import timedelta          \n",
    "c = datetime.fromisoformat('2017-08-09 08:07:13')\n",
    "str(datetime.fromisoformat('2017-08-09 08:07:13') + timedelta(minutes=5))"
   ]
  },
  {
   "cell_type": "code",
   "execution_count": 698,
   "id": "12d493b2",
   "metadata": {},
   "outputs": [],
   "source": [
    "M_cgm180 = 0\n",
    "A_cgm180 = 0\n",
    "M_cgm250 = 0\n",
    "A_cgm250 = 0\n",
    "M_cgm70_180 = 0\n",
    "A_cgm70_180 = 0\n",
    "M_cgm70_150 = 0\n",
    "A_cgm70_150 = 0\n",
    "M_cgm70 = 0\n",
    "A_cgm70 = 0\n",
    "M_cgm50 = 0\n",
    "A_cgm50 = 0\n",
    "mode = 0  #0 = Manual, 1 = Auto \n",
    "# and date[11:] >= '06:00:00' and date[11:] < '24:00:00':       "
   ]
  },
  {
   "cell_type": "code",
   "execution_count": 699,
   "id": "76ea5592",
   "metadata": {},
   "outputs": [],
   "source": [
    "#overnight (midnight to 6 am)\n",
    "for date, glucose in cgm_df.itertuples(index=False):\n",
    "    if mode ==0 and date[0:10] in date_list and date[11:] >= '00:00:00' and date[11:] < '06:00:00':\n",
    "        #print(date,date[11:],mode)\n",
    "        if glucose > 180:\n",
    "            M_cgm180 = M_cgm180 + 1\n",
    "        if glucose > 250:\n",
    "            M_cgm250 = M_cgm250 + 1\n",
    "        if glucose >= 70 and glucose <= 180:\n",
    "            M_cgm70_180 = M_cgm70_180 + 1\n",
    "        if glucose >= 70 and glucose <= 150:\n",
    "            M_cgm70_150 = M_cgm70_150 + 1\n",
    "        if glucose < 70:\n",
    "            M_cgm70 = M_cgm70 + 1\n",
    "        if glucose < 50:\n",
    "            M_cgm50 = M_cgm50 + 1\n",
    "    if mode ==1 and date[0:10] in date_list and date[11:] >= '00:00:00' and date[11:] < '06:00:00':\n",
    "        #print(date,date[11:],mode)\n",
    "        if glucose > 180:\n",
    "            A_cgm180 = A_cgm180 + 1\n",
    "        if glucose > 250:\n",
    "            A_cgm250 = A_cgm250 + 1\n",
    "        if glucose >= 70 and glucose <= 180:\n",
    "            A_cgm70_180 = A_cgm70_180 + 1\n",
    "        if glucose >= 70 and glucose <= 150:\n",
    "            A_cgm70_150 = A_cgm70_150 + 1\n",
    "        if glucose < 70:\n",
    "            A_cgm70 = A_cgm70 + 1\n",
    "        if glucose < 50:\n",
    "            A_cgm50 = A_cgm50 + 1\n",
    "    #print(date, glucose,mode)\n",
    "    for d in mode_list:\n",
    "        if date < d and d < str(datetime.fromisoformat(date) + timedelta(minutes=5)):\n",
    "            if mode == 0: mode = mode + 1\n",
    "            elif mode == 1: mode = mode - 1\n",
    "            #print(date, d, mode)\n",
    " "
   ]
  },
  {
   "cell_type": "code",
   "execution_count": 700,
   "id": "2423a080",
   "metadata": {
    "scrolled": true
   },
   "outputs": [
    {
     "name": "stdout",
     "output_type": "stream",
     "text": [
      "      cgm > 180 : 1.9191919191919191\n",
      "      cgm > 250 : 0.2546296296296296\n",
      "70 <= cgm <= 180: 10.801767676767676\n",
      "70 <= cgm <= 150: 8.973063973063972\n",
      "      cgm < 70  : 0.3388047138047138\n",
      "      cgm < 50  : 0.054713804713804715\n",
      "      cgm > 180 : 1.0101010101010102\n",
      "      cgm > 250 : 0.19570707070707072\n",
      "70 <= cgm <= 180: 9.688552188552189\n",
      "70 <= cgm <= 150: 8.674242424242424\n",
      "      cgm < 70  : 0.2904040404040404\n",
      "      cgm < 50  : 0.01893939393939394\n"
     ]
    }
   ],
   "source": [
    "print('      cgm > 180 :', M_cgm180/len_of_date/288*100)        \n",
    "print('      cgm > 250 :', M_cgm250/len_of_date/288*100)\n",
    "print('70 <= cgm <= 180:', M_cgm70_180/len_of_date/288*100)\n",
    "print('70 <= cgm <= 150:', M_cgm70_150/len_of_date/288*100)\n",
    "print('      cgm < 70  :', M_cgm70/len_of_date/288*100)        \n",
    "print('      cgm < 50  :', M_cgm50/len_of_date/288*100)\n",
    "print('      cgm > 180 :', A_cgm180/len_of_date/288*100)        \n",
    "print('      cgm > 250 :', A_cgm250/len_of_date/288*100)\n",
    "print('70 <= cgm <= 180:', A_cgm70_180/len_of_date/288*100)\n",
    "print('70 <= cgm <= 150:', A_cgm70_150/len_of_date/288*100)\n",
    "print('      cgm < 70  :', A_cgm70/len_of_date/288*100)        \n",
    "print('      cgm < 50  :', A_cgm50/len_of_date/288*100)\n",
    "\n",
    "o_list1 = [M_cgm180/len_of_date/288*100, A_cgm180/len_of_date/288*100]\n",
    "o_list2 = [M_cgm250/len_of_date/288*100, A_cgm250/len_of_date/288*100]\n",
    "o_list3 = [M_cgm70_180/len_of_date/288*100, A_cgm70_180/len_of_date/288*100]\n",
    "o_list4 = [M_cgm70_150/len_of_date/288*100, A_cgm70_150/len_of_date/288*100]\n",
    "o_list5 = [M_cgm70/len_of_date/288*100, A_cgm70/len_of_date/288*100]\n",
    "o_list6 = [M_cgm50/len_of_date/288*100, A_cgm50/len_of_date/288*100]\n"
   ]
  },
  {
   "cell_type": "code",
   "execution_count": 701,
   "id": "7a021f10",
   "metadata": {},
   "outputs": [],
   "source": [
    "M_cgm180 = 0\n",
    "A_cgm180 = 0\n",
    "M_cgm250 = 0\n",
    "A_cgm250 = 0\n",
    "M_cgm70_180 = 0\n",
    "A_cgm70_180 = 0\n",
    "M_cgm70_150 = 0\n",
    "A_cgm70_150 = 0\n",
    "M_cgm70 = 0\n",
    "A_cgm70 = 0\n",
    "M_cgm50 = 0\n",
    "A_cgm50 = 0\n",
    "mode = 0  #0 = Manual, 1 = Auto "
   ]
  },
  {
   "cell_type": "code",
   "execution_count": 702,
   "id": "6d1aeb71",
   "metadata": {},
   "outputs": [],
   "source": [
    "#daytime (6 am to midnight)\n",
    "for date, glucose in cgm_df.itertuples(index=False):\n",
    "    if mode ==0 and date[0:10] in date_list and date[11:] >= '06:00:00' and date[11:] < '24:00:00': \n",
    "        #print(date,date[11:],mode)\n",
    "        if glucose > 180:\n",
    "            M_cgm180 = M_cgm180 + 1\n",
    "        if glucose > 250:\n",
    "            M_cgm250 = M_cgm250 + 1\n",
    "        if glucose >= 70 and glucose <= 180:\n",
    "            M_cgm70_180 = M_cgm70_180 + 1\n",
    "        if glucose >= 70 and glucose <= 150:\n",
    "            M_cgm70_150 = M_cgm70_150 + 1\n",
    "        if glucose < 70:\n",
    "            M_cgm70 = M_cgm70 + 1\n",
    "        if glucose < 50:\n",
    "            M_cgm50 = M_cgm50 + 1\n",
    "    if mode ==1 and date[0:10] in date_list and date[11:] >= '06:00:00' and date[11:] < '24:00:00':\n",
    "        #print(date,date[11:],mode)\n",
    "        if glucose > 180:\n",
    "            A_cgm180 = A_cgm180 + 1\n",
    "        if glucose > 250:\n",
    "            A_cgm250 = A_cgm250 + 1\n",
    "        if glucose >= 70 and glucose <= 180:\n",
    "            A_cgm70_180 = A_cgm70_180 + 1\n",
    "        if glucose >= 70 and glucose <= 150:\n",
    "            A_cgm70_150 = A_cgm70_150 + 1\n",
    "        if glucose < 70:\n",
    "            A_cgm70 = A_cgm70 + 1\n",
    "        if glucose < 50:\n",
    "            A_cgm50 = A_cgm50 + 1\n",
    "    #print(date, glucose,mode)\n",
    "    for d in mode_list:\n",
    "        if date < d and d < str(datetime.fromisoformat(date) + timedelta(minutes=5)):\n",
    "            if mode == 0: mode = mode + 1\n",
    "            elif mode == 1: mode = mode - 1\n",
    "            #print(date, d, mode)"
   ]
  },
  {
   "cell_type": "code",
   "execution_count": 703,
   "id": "13789f29",
   "metadata": {},
   "outputs": [
    {
     "name": "stdout",
     "output_type": "stream",
     "text": [
      "      cgm > 180 : 10.942760942760943\n",
      "      cgm > 250 : 2.582070707070707\n",
      "70 <= cgm <= 180: 25.547138047138045\n",
      "70 <= cgm <= 150: 19.38131313131313\n",
      "      cgm < 70  : 2.1001683501683504\n",
      "      cgm < 50  : 0.5513468013468014\n",
      "      cgm > 180 : 10.170454545454545\n",
      "      cgm > 250 : 2.760942760942761\n",
      "70 <= cgm <= 180: 21.79503367003367\n",
      "70 <= cgm <= 150: 16.142676767676768\n",
      "      cgm < 70  : 1.466750841750842\n",
      "      cgm < 50  : 0.22516835016835016\n"
     ]
    }
   ],
   "source": [
    "print('      cgm > 180 :', M_cgm180/len_of_date/288*100)        \n",
    "print('      cgm > 250 :', M_cgm250/len_of_date/288*100)\n",
    "print('70 <= cgm <= 180:', M_cgm70_180/len_of_date/288*100)\n",
    "print('70 <= cgm <= 150:', M_cgm70_150/len_of_date/288*100)\n",
    "print('      cgm < 70  :', M_cgm70/len_of_date/288*100)        \n",
    "print('      cgm < 50  :', M_cgm50/len_of_date/288*100)\n",
    "print('      cgm > 180 :', A_cgm180/len_of_date/288*100)        \n",
    "print('      cgm > 250 :', A_cgm250/len_of_date/288*100)\n",
    "print('70 <= cgm <= 180:', A_cgm70_180/len_of_date/288*100)\n",
    "print('70 <= cgm <= 150:', A_cgm70_150/len_of_date/288*100)\n",
    "print('      cgm < 70  :', A_cgm70/len_of_date/288*100)        \n",
    "print('      cgm < 50  :', A_cgm50/len_of_date/288*100)\n",
    "d_list1 = [M_cgm180/len_of_date/288*100, A_cgm180/len_of_date/288*100]\n",
    "d_list2 = [M_cgm250/len_of_date/288*100, A_cgm250/len_of_date/288*100]\n",
    "d_list3 = [M_cgm70_180/len_of_date/288*100, A_cgm70_180/len_of_date/288*100]\n",
    "d_list4 = [M_cgm70_150/len_of_date/288*100, A_cgm70_150/len_of_date/288*100]\n",
    "d_list5 = [M_cgm70/len_of_date/288*100, A_cgm70/len_of_date/288*100]\n",
    "d_list6 = [M_cgm50/len_of_date/288*100, A_cgm50/len_of_date/288*100]\n"
   ]
  },
  {
   "cell_type": "code",
   "execution_count": 704,
   "id": "095ab14e",
   "metadata": {},
   "outputs": [],
   "source": [
    "M_cgm180 = 0\n",
    "A_cgm180 = 0\n",
    "M_cgm250 = 0\n",
    "A_cgm250 = 0\n",
    "M_cgm70_180 = 0\n",
    "A_cgm70_180 = 0\n",
    "M_cgm70_150 = 0\n",
    "A_cgm70_150 = 0\n",
    "M_cgm70 = 0\n",
    "A_cgm70 = 0\n",
    "M_cgm50 = 0\n",
    "A_cgm50 = 0\n",
    "mode = 0  #0 = Manual, 1 = Auto "
   ]
  },
  {
   "cell_type": "code",
   "execution_count": 705,
   "id": "7692ab23",
   "metadata": {},
   "outputs": [],
   "source": [
    "#whole day (12 am to 12 am).\n",
    "for date, glucose in cgm_df.itertuples(index=False):\n",
    "    if mode ==0 and date[0:10] in date_list:\n",
    "        if glucose > 180:\n",
    "            M_cgm180 = M_cgm180 + 1\n",
    "        if glucose > 250:\n",
    "            M_cgm250 = M_cgm250 + 1\n",
    "        if glucose >= 70 and glucose <= 180:\n",
    "            M_cgm70_180 = M_cgm70_180 + 1\n",
    "        if glucose >= 70 and glucose <= 150:\n",
    "            M_cgm70_150 = M_cgm70_150 + 1\n",
    "        if glucose < 70:\n",
    "            M_cgm70 = M_cgm70 + 1\n",
    "        if glucose < 50:\n",
    "            M_cgm50 = M_cgm50 + 1\n",
    "    if mode ==1 and date[0:10] in date_list:\n",
    "        if glucose > 180:\n",
    "            A_cgm180 = A_cgm180 + 1\n",
    "        if glucose > 250:\n",
    "            A_cgm250 = A_cgm250 + 1\n",
    "        if glucose >= 70 and glucose <= 180:\n",
    "            A_cgm70_180 = A_cgm70_180 + 1\n",
    "        if glucose >= 70 and glucose <= 150:\n",
    "            A_cgm70_150 = A_cgm70_150 + 1\n",
    "        if glucose < 70:\n",
    "            A_cgm70 = A_cgm70 + 1\n",
    "        if glucose < 50:\n",
    "            A_cgm50 = A_cgm50 + 1\n",
    "    #print(date, glucose,mode)\n",
    "    for d in mode_list:\n",
    "        if date < d and d < str(datetime.fromisoformat(date) + timedelta(minutes=5)):\n",
    "            if mode == 0: mode = mode + 1\n",
    "            elif mode == 1: mode = mode - 1\n",
    "            #print(date, d, mode)\n",
    "  "
   ]
  },
  {
   "cell_type": "code",
   "execution_count": 706,
   "id": "0266f89f",
   "metadata": {
    "scrolled": true
   },
   "outputs": [
    {
     "name": "stdout",
     "output_type": "stream",
     "text": [
      "      cgm > 180 : 12.86195286195286\n",
      "      cgm > 250 : 2.8367003367003365\n",
      "70 <= cgm <= 180: 36.34890572390572\n",
      "70 <= cgm <= 150: 28.354377104377104\n",
      "      cgm < 70  : 2.438973063973064\n",
      "      cgm < 50  : 0.6060606060606061\n",
      "      cgm > 180 : 11.180555555555555\n",
      "      cgm > 250 : 2.9566498316498318\n",
      "70 <= cgm <= 180: 31.48358585858586\n",
      "70 <= cgm <= 150: 24.81691919191919\n",
      "      cgm < 70  : 1.7571548821548821\n",
      "      cgm < 50  : 0.24410774410774408\n"
     ]
    }
   ],
   "source": [
    "print('      cgm > 180 :', M_cgm180/len_of_date/288*100)        \n",
    "print('      cgm > 250 :', M_cgm250/len_of_date/288*100)\n",
    "print('70 <= cgm <= 180:', M_cgm70_180/len_of_date/288*100)\n",
    "print('70 <= cgm <= 150:', M_cgm70_150/len_of_date/288*100)\n",
    "print('      cgm < 70  :', M_cgm70/len_of_date/288*100)        \n",
    "print('      cgm < 50  :', M_cgm50/len_of_date/288*100)\n",
    "print('      cgm > 180 :', A_cgm180/len_of_date/288*100)        \n",
    "print('      cgm > 250 :', A_cgm250/len_of_date/288*100)\n",
    "print('70 <= cgm <= 180:', A_cgm70_180/len_of_date/288*100)\n",
    "print('70 <= cgm <= 150:', A_cgm70_150/len_of_date/288*100)\n",
    "print('      cgm < 70  :', A_cgm70/len_of_date/288*100)        \n",
    "print('      cgm < 50  :', A_cgm50/len_of_date/288*100)\n",
    "a_list1 = [M_cgm180/len_of_date/288*100, A_cgm180/len_of_date/288*100]\n",
    "a_list2 = [M_cgm250/len_of_date/288*100, A_cgm250/len_of_date/288*100]\n",
    "a_list3 = [M_cgm70_180/len_of_date/288*100, A_cgm70_180/len_of_date/288*100]\n",
    "a_list4 = [M_cgm70_150/len_of_date/288*100, A_cgm70_150/len_of_date/288*100]\n",
    "a_list5 = [M_cgm70/len_of_date/288*100, A_cgm70/len_of_date/288*100]\n",
    "a_list6 = [M_cgm50/len_of_date/288*100, A_cgm50/len_of_date/288*100]"
   ]
  },
  {
   "cell_type": "code",
   "execution_count": 708,
   "id": "b0a34bd9",
   "metadata": {},
   "outputs": [
    {
     "data": {
      "text/html": [
       "<div>\n",
       "<style scoped>\n",
       "    .dataframe tbody tr th:only-of-type {\n",
       "        vertical-align: middle;\n",
       "    }\n",
       "\n",
       "    .dataframe tbody tr th {\n",
       "        vertical-align: top;\n",
       "    }\n",
       "\n",
       "    .dataframe thead th {\n",
       "        text-align: right;\n",
       "    }\n",
       "</style>\n",
       "<table border=\"1\" class=\"dataframe\">\n",
       "  <thead>\n",
       "    <tr style=\"text-align: right;\">\n",
       "      <th></th>\n",
       "      <th>0</th>\n",
       "      <th>1</th>\n",
       "      <th>2</th>\n",
       "      <th>3</th>\n",
       "      <th>4</th>\n",
       "      <th>5</th>\n",
       "      <th>6</th>\n",
       "      <th>7</th>\n",
       "      <th>8</th>\n",
       "      <th>9</th>\n",
       "      <th>10</th>\n",
       "      <th>11</th>\n",
       "      <th>12</th>\n",
       "      <th>13</th>\n",
       "      <th>14</th>\n",
       "      <th>15</th>\n",
       "      <th>16</th>\n",
       "      <th>17</th>\n",
       "    </tr>\n",
       "  </thead>\n",
       "  <tbody>\n",
       "    <tr>\n",
       "      <td>0</td>\n",
       "      <td>1.919192</td>\n",
       "      <td>0.254630</td>\n",
       "      <td>10.801768</td>\n",
       "      <td>8.973064</td>\n",
       "      <td>0.338805</td>\n",
       "      <td>0.054714</td>\n",
       "      <td>10.942761</td>\n",
       "      <td>2.582071</td>\n",
       "      <td>25.547138</td>\n",
       "      <td>19.381313</td>\n",
       "      <td>2.100168</td>\n",
       "      <td>0.551347</td>\n",
       "      <td>12.861953</td>\n",
       "      <td>2.83670</td>\n",
       "      <td>36.348906</td>\n",
       "      <td>28.354377</td>\n",
       "      <td>2.438973</td>\n",
       "      <td>0.606061</td>\n",
       "    </tr>\n",
       "    <tr>\n",
       "      <td>1</td>\n",
       "      <td>1.010101</td>\n",
       "      <td>0.195707</td>\n",
       "      <td>9.688552</td>\n",
       "      <td>8.674242</td>\n",
       "      <td>0.290404</td>\n",
       "      <td>0.018939</td>\n",
       "      <td>10.170455</td>\n",
       "      <td>2.760943</td>\n",
       "      <td>21.795034</td>\n",
       "      <td>16.142677</td>\n",
       "      <td>1.466751</td>\n",
       "      <td>0.225168</td>\n",
       "      <td>11.180556</td>\n",
       "      <td>2.95665</td>\n",
       "      <td>31.483586</td>\n",
       "      <td>24.816919</td>\n",
       "      <td>1.757155</td>\n",
       "      <td>0.244108</td>\n",
       "    </tr>\n",
       "  </tbody>\n",
       "</table>\n",
       "</div>"
      ],
      "text/plain": [
       "          0         1          2         3         4         5          6  \\\n",
       "0  1.919192  0.254630  10.801768  8.973064  0.338805  0.054714  10.942761   \n",
       "1  1.010101  0.195707   9.688552  8.674242  0.290404  0.018939  10.170455   \n",
       "\n",
       "          7          8          9        10        11         12       13  \\\n",
       "0  2.582071  25.547138  19.381313  2.100168  0.551347  12.861953  2.83670   \n",
       "1  2.760943  21.795034  16.142677  1.466751  0.225168  11.180556  2.95665   \n",
       "\n",
       "          14         15        16        17  \n",
       "0  36.348906  28.354377  2.438973  0.606061  \n",
       "1  31.483586  24.816919  1.757155  0.244108  "
      ]
     },
     "execution_count": 708,
     "metadata": {},
     "output_type": "execute_result"
    }
   ],
   "source": [
    "results_df = pd.DataFrame(list(zip(o_list1, o_list2, o_list3, o_list4, o_list5, o_list6, d_list1, d_list2, d_list3, d_list4, d_list5, d_list6, a_list1, a_list2, a_list3, a_list4, a_list5, a_list6)))\n",
    "results_df"
   ]
  },
  {
   "cell_type": "code",
   "execution_count": 712,
   "id": "3bc5f6e9",
   "metadata": {},
   "outputs": [],
   "source": [
    "results_df.to_csv(r'Results.csv', index = False, header=False)"
   ]
  },
  {
   "cell_type": "code",
   "execution_count": null,
   "id": "c234feb0",
   "metadata": {},
   "outputs": [],
   "source": []
  }
 ],
 "metadata": {
  "kernelspec": {
   "display_name": "Python 3",
   "language": "python",
   "name": "python3"
  },
  "language_info": {
   "codemirror_mode": {
    "name": "ipython",
    "version": 3
   },
   "file_extension": ".py",
   "mimetype": "text/x-python",
   "name": "python",
   "nbconvert_exporter": "python",
   "pygments_lexer": "ipython3",
   "version": "3.7.11"
  }
 },
 "nbformat": 4,
 "nbformat_minor": 5
}
